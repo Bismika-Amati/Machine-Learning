{
  "nbformat": 4,
  "nbformat_minor": 0,
  "metadata": {
    "colab": {
      "provenance": []
    },
    "kernelspec": {
      "name": "python3",
      "display_name": "Python 3"
    },
    "language_info": {
      "name": "python"
    }
  },
  "cells": [
    {
      "cell_type": "code",
      "source": [
        "#DATA\n",
        "import pandas as pd\n",
        "from sklearn.feature_extraction.text import CountVectorizer\n",
        "from sklearn.model_selection import train_test_split\n",
        "from sklearn.naive_bayes import MultinomialNB\n",
        "import pickle\n",
        "import numpy as np\n",
        "\n",
        "df = pd.read_csv('deskripsi_permasalahan.csv',\n",
        "                 sep=',',\n",
        "                 low_memory = False)\n",
        "#df.sample(100)\n",
        "\n",
        "#DATA CLEANING \n",
        "df['Uraian'] = df['Uraian'].map(str) #mapping to str\n",
        "df['Uraian'] = df['Uraian'].str.lower() #lowering all case\n",
        "df['Uraian'] = df['Uraian'].str.replace(r'[^\\w\\s]+', ' ') #remove Punct\n",
        "df['Uraian'] = df['Uraian'].str.replace(r'_+', ' ') #remove Punct\n",
        "df['Uraian'] = df['Uraian'].str.replace('\\s+', ' ', regex=True) #remove multiple space\n",
        "\n",
        "#DIVIDING DATA INPUT & OUTPUT\n",
        "input_column  = 'Uraian'\n",
        "output_column = 'Topik'\n",
        "X = df.loc[:,input_column]\n",
        "y = df.loc[:,output_column]\n",
        "print('Data Divided Successfully Into Input & Output')\n",
        "\n",
        "#BAG OF WORDS MODEL TO CONVERT FEATURES INTO NUMBERS\n",
        "from sklearn.feature_extraction.text import CountVectorizer\n",
        "count_vect = CountVectorizer()\n",
        "X_counts   = count_vect.fit_transform(X).toarray()\n",
        "print(X_counts.shape)\n",
        "\n",
        "#TRAIN - TEST DATA SPLIT\n",
        "from sklearn.model_selection import train_test_split\n",
        "X_train, X_test, y_train, y_test = train_test_split(X_counts, y, test_size=0.2, random_state=0)\n",
        "print('Data Divided Into Train & Test')\n",
        "\n",
        "#CLASSIFICATION USING NAIVE BAYES\n",
        "import numpy as np\n",
        "from sklearn.naive_bayes import MultinomialNB\n",
        "clf = MultinomialNB().fit(X_train, y_train)\n",
        "\n",
        "predict = clf.predict(X_test)\n",
        "print('Accuracy of The Model is =====> '+str(round(np.mean(predict == y_test)*100,2))+'%')\n",
        "\n",
        "import pickle\n",
        "\n",
        "# Save the trained model\n",
        "with open('naive_bayes_model.pkl', 'wb') as f:\n",
        "    pickle.dump(clf, f)\n",
        "\n",
        "with open('count_vectorizer.pkl', 'wb') as f:\n",
        "    pickle.dump(count_vect, f)\n",
        "\n",
        "\n",
        "from google.colab import files\n",
        "files.download('count_vectorizer.pkl')"
      ],
      "metadata": {
        "colab": {
          "base_uri": "https://localhost:8080/",
          "height": 179
        },
        "id": "_rHbzJ3hZTUG",
        "outputId": "9ec6784b-5b9e-46e8-a0ed-3c1686d44435"
      },
      "execution_count": null,
      "outputs": [
        {
          "output_type": "stream",
          "name": "stderr",
          "text": [
            "<ipython-input-7-ff9703f6f4a4>:17: FutureWarning: The default value of regex will change from True to False in a future version.\n",
            "  df['Uraian'] = df['Uraian'].str.replace(r'[^\\w\\s]+', ' ') #remove Punct\n",
            "<ipython-input-7-ff9703f6f4a4>:18: FutureWarning: The default value of regex will change from True to False in a future version.\n",
            "  df['Uraian'] = df['Uraian'].str.replace(r'_+', ' ') #remove Punct\n"
          ]
        },
        {
          "output_type": "stream",
          "name": "stdout",
          "text": [
            "Data Divided Successfully Into Input & Output\n",
            "(1100, 1902)\n",
            "Data Divided Into Train & Test\n",
            "Accuracy of The Model is =====> 95.91%\n"
          ]
        },
        {
          "output_type": "display_data",
          "data": {
            "text/plain": [
              "<IPython.core.display.Javascript object>"
            ],
            "application/javascript": [
              "\n",
              "    async function download(id, filename, size) {\n",
              "      if (!google.colab.kernel.accessAllowed) {\n",
              "        return;\n",
              "      }\n",
              "      const div = document.createElement('div');\n",
              "      const label = document.createElement('label');\n",
              "      label.textContent = `Downloading \"${filename}\": `;\n",
              "      div.appendChild(label);\n",
              "      const progress = document.createElement('progress');\n",
              "      progress.max = size;\n",
              "      div.appendChild(progress);\n",
              "      document.body.appendChild(div);\n",
              "\n",
              "      const buffers = [];\n",
              "      let downloaded = 0;\n",
              "\n",
              "      const channel = await google.colab.kernel.comms.open(id);\n",
              "      // Send a message to notify the kernel that we're ready.\n",
              "      channel.send({})\n",
              "\n",
              "      for await (const message of channel.messages) {\n",
              "        // Send a message to notify the kernel that we're ready.\n",
              "        channel.send({})\n",
              "        if (message.buffers) {\n",
              "          for (const buffer of message.buffers) {\n",
              "            buffers.push(buffer);\n",
              "            downloaded += buffer.byteLength;\n",
              "            progress.value = downloaded;\n",
              "          }\n",
              "        }\n",
              "      }\n",
              "      const blob = new Blob(buffers, {type: 'application/binary'});\n",
              "      const a = document.createElement('a');\n",
              "      a.href = window.URL.createObjectURL(blob);\n",
              "      a.download = filename;\n",
              "      div.appendChild(a);\n",
              "      a.click();\n",
              "      div.remove();\n",
              "    }\n",
              "  "
            ]
          },
          "metadata": {}
        },
        {
          "output_type": "display_data",
          "data": {
            "text/plain": [
              "<IPython.core.display.Javascript object>"
            ],
            "application/javascript": [
              "download(\"download_dbd0ab9c-b3f9-4ad7-b646-feafa51fa6fc\", \"count_vectorizer.pkl\", 26668)"
            ]
          },
          "metadata": {}
        }
      ]
    }
  ]
}